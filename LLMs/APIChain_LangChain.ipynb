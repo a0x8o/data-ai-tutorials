{
 "cells": [
  {
   "cell_type": "markdown",
   "metadata": {},
   "source": [
    "#### Introducing `ApiChain`! 🚀 "
   ]
  },
  {
   "cell_type": "code",
   "execution_count": null,
   "metadata": {},
   "outputs": [],
   "source": [
    "import os\n",
    "from langchain.chains import APIChain\n",
    "from langchain.chat_models import ChatOpenAI\n",
    "from IPython.display import Markdown"
   ]
  },
  {
   "cell_type": "code",
   "execution_count": null,
   "metadata": {},
   "outputs": [],
   "source": [
    "# Set environment variables\n",
    "os.environ['OPENAI_API_KEY'] = '...'"
   ]
  },
  {
   "cell_type": "code",
   "execution_count": null,
   "metadata": {},
   "outputs": [],
   "source": [
    "user_message = 'Whats is the weather like in Baltimore today?'"
   ]
  },
  {
   "cell_type": "code",
   "execution_count": null,
   "metadata": {},
   "outputs": [],
   "source": [
    "llm = ChatOpenAI(temperature=0, model_name=\"gpt-3.5-turbo\", max_tokens=256, verbose=True)\n",
    "\n",
    "apiSpec = \"\"\"API documentation:\n",
    "Base URL:f\"http://api.weatherapi.com/\n",
    "Endpoint: /weather\n",
    "Example API call: http://api.weatherapi.com/v1/current.json?\\\n",
    "key=**your_api_key**&q=Delhi&aqi=no'\n",
    "\n",
    "This API is for retrieving weather information based on city name\n",
    "\n",
    "Request GET \n",
    "Query Parameter Name\tFormat\tRequired\tDescription\n",
    "q\tString\tYes\tName of city for which we want weather info\n",
    "\n",
    "INSTRUCTIONS FOR RESPONDING\n",
    "Respond in Natural Language\n",
    "\"\"\"\n",
    "\n",
    "chain = APIChain.from_llm_and_api_docs(llm, apiSpec, verbose=False)\n",
    "response = chain.run(user_message)\n",
    "Markdown(response)"
   ]
  },
  {
   "cell_type": "code",
   "execution_count": null,
   "metadata": {},
   "outputs": [],
   "source": []
  }
 ],
 "metadata": {
  "kernelspec": {
   "display_name": "machine-learning",
   "language": "python",
   "name": "python3"
  },
  "language_info": {
   "codemirror_mode": {
    "name": "ipython",
    "version": 3
   },
   "file_extension": ".py",
   "mimetype": "text/x-python",
   "name": "python",
   "nbconvert_exporter": "python",
   "pygments_lexer": "ipython3",
   "version": "3.10.16"
  }
 },
 "nbformat": 4,
 "nbformat_minor": 4
}
